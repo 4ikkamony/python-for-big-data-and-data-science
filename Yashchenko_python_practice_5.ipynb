{
  "nbformat": 4,
  "nbformat_minor": 0,
  "metadata": {
    "colab": {
      "provenance": []
    },
    "kernelspec": {
      "name": "python3",
      "display_name": "Python 3"
    },
    "language_info": {
      "name": "python"
    }
  },
  "cells": [
    {
      "cell_type": "markdown",
      "source": [
        "# I. OOP"
      ],
      "metadata": {
        "id": "5qV_sehzFCTp"
      }
    },
    {
      "cell_type": "markdown",
      "source": [
        "1. (6б). Створіть клас Animal, додайте три атрибути, один з яких має значення за замовчуванням та два методи на свій розсуд."
      ],
      "metadata": {
        "id": "tx_U_hOALyfg"
      }
    },
    {
      "cell_type": "code",
      "source": [
        "class Animal:\n",
        "    def __init__(self, name, age, hungry = False):\n",
        "        self.name = name\n",
        "        self.age = age\n",
        "        self.hungry = hungry\n",
        "\n",
        "    def feed(self):\n",
        "        if self.hungry:\n",
        "          print(f\"{self.name} says: Thx\")\n",
        "          self.hungry = False\n",
        "        else:\n",
        "          print(f\"{self.name} says: Nah\")\n",
        "\n",
        "    def get_name(self):\n",
        "        return self.name"
      ],
      "metadata": {
        "id": "-Vf895KaL88N"
      },
      "execution_count": null,
      "outputs": []
    },
    {
      "cell_type": "markdown",
      "source": [
        "2. (2б). Створіть два обʼєкти цього класу, де один з обʼєктів створюється із дефолтним значенням атрибуту. На одному обʼєкті отримайте значення його атрибуту, а на іншому викличте один з його методів."
      ],
      "metadata": {
        "id": "X_UlOMB0L93w"
      }
    },
    {
      "cell_type": "code",
      "source": [
        "my_dog = Animal(\"Bobik\", 3, True)\n",
        "my_cat = Animal(\"Vasua\", 2)\n",
        "\n",
        "print(f'is my_cat hungry? {my_cat.hungry}')\n",
        "\n",
        "print(Animal.feed(my_dog))"
      ],
      "metadata": {
        "id": "7gBu0ESOMCpG",
        "colab": {
          "base_uri": "https://localhost:8080/"
        },
        "outputId": "4637d1d9-fde8-4c1f-e3a0-4c186d9e2473"
      },
      "execution_count": null,
      "outputs": [
        {
          "output_type": "stream",
          "name": "stdout",
          "text": [
            "is my_cat hungry? False\n",
            "Bobik says: Thx\n",
            "None\n"
          ]
        }
      ]
    },
    {
      "cell_type": "markdown",
      "source": [
        "3. (5б). Створіть клас, де атрибути мають різні рівні доступу. Спробуйте отримати їхні значення та опишіть результати."
      ],
      "metadata": {
        "id": "HoqSCZt1MHn5"
      }
    },
    {
      "cell_type": "code",
      "source": [
        "class Secret:\n",
        "    def __init__(self, private_secret, protected_secret, silly_secret):\n",
        "        self.__private_secret = private_secret\n",
        "        self._protected_secret = protected_secret\n",
        "        self.silly_secret = silly_secret\n",
        "\n",
        "\n",
        "\n",
        "s = Secret(\"private\", \"protected\", \"silly\")\n",
        "# пробуємо доступитися до атрибутів\n",
        "\n",
        "print(f'{s.silly_secret} - this secret is public')\n",
        "print(f'{s._protected_secret} - this secret CAN be accessed by anyone, but SHOULD only be told to this class\\' children')\n",
        "print(s.__private_secret) # this secret can only be accesed by the class itself\n",
        "\n",
        "\n"
      ],
      "metadata": {
        "id": "r9b3vJxBMSPV",
        "colab": {
          "base_uri": "https://localhost:8080/",
          "height": 245
        },
        "outputId": "ff41c876-ee0b-4675-dd90-af1f4083497e"
      },
      "execution_count": null,
      "outputs": [
        {
          "output_type": "stream",
          "name": "stdout",
          "text": [
            "silly - this secret is public\n",
            "protected - this secret CAN be accessed by anyone, but SHOULD only be told to this class' children\n"
          ]
        },
        {
          "output_type": "error",
          "ename": "AttributeError",
          "evalue": "'Secret' object has no attribute '__private_secret'",
          "traceback": [
            "\u001b[0;31m---------------------------------------------------------------------------\u001b[0m",
            "\u001b[0;31mAttributeError\u001b[0m                            Traceback (most recent call last)",
            "\u001b[0;32m<ipython-input-14-a6603b51e317>\u001b[0m in \u001b[0;36m<cell line: 14>\u001b[0;34m()\u001b[0m\n\u001b[1;32m     12\u001b[0m \u001b[0mprint\u001b[0m\u001b[0;34m(\u001b[0m\u001b[0;34mf'{s.silly_secret} - this secret is public'\u001b[0m\u001b[0;34m)\u001b[0m\u001b[0;34m\u001b[0m\u001b[0;34m\u001b[0m\u001b[0m\n\u001b[1;32m     13\u001b[0m \u001b[0mprint\u001b[0m\u001b[0;34m(\u001b[0m\u001b[0;34mf'{s._protected_secret} - this secret CAN be accessed by anyone, but SHOULD only be told to this class\\' children'\u001b[0m\u001b[0;34m)\u001b[0m\u001b[0;34m\u001b[0m\u001b[0;34m\u001b[0m\u001b[0m\n\u001b[0;32m---> 14\u001b[0;31m \u001b[0mprint\u001b[0m\u001b[0;34m(\u001b[0m\u001b[0ms\u001b[0m\u001b[0;34m.\u001b[0m\u001b[0m__private_secret\u001b[0m\u001b[0;34m)\u001b[0m \u001b[0;31m# this secret can only be accesed by the class itself\u001b[0m\u001b[0;34m\u001b[0m\u001b[0;34m\u001b[0m\u001b[0m\n\u001b[0m\u001b[1;32m     15\u001b[0m \u001b[0;34m\u001b[0m\u001b[0m\n\u001b[1;32m     16\u001b[0m \u001b[0;34m\u001b[0m\u001b[0m\n",
            "\u001b[0;31mAttributeError\u001b[0m: 'Secret' object has no attribute '__private_secret'"
          ]
        }
      ]
    },
    {
      "cell_type": "markdown",
      "source": [
        "4. (7б). Як ви розумієте термін self? Для чого використовується метод __init __?"
      ],
      "metadata": {
        "id": "5op2m2vgMSkZ"
      }
    },
    {
      "cell_type": "markdown",
      "source": [
        "`__init__` - конструктор, він ініціалізує екземпляри класу\n",
        "\n",
        "self - явне посилання саме на екземпляр класу"
      ],
      "metadata": {
        "id": "HaKQvU6-qM98"
      }
    },
    {
      "cell_type": "markdown",
      "source": [
        "*місце для відповіді"
      ],
      "metadata": {
        "id": "DyiPqNRvMasx"
      }
    },
    {
      "cell_type": "markdown",
      "source": [
        "5. (9б). Створіть клас Фігура без атрибутів, з методом get_area для отримання площі фігури, що повертає 0 та __add __, який приймає self та other в якості аргументів, а повертає суму площин фігур self та other."
      ],
      "metadata": {
        "id": "-6X8EGfjMd2y"
      }
    },
    {
      "cell_type": "code",
      "source": [
        "class Figure:\n",
        "    def get_area(self):\n",
        "        return 0\n",
        "\n",
        "    def __add__(self, other):\n",
        "        return self.get_area() + other.get_area()"
      ],
      "metadata": {
        "id": "4rvO_wYUMaEr"
      },
      "execution_count": null,
      "outputs": []
    },
    {
      "cell_type": "markdown",
      "source": [
        "6. (11б). Створіть 2 дочірніх класи від Фігури: Трикутник та Коло, які мають атрибути, необхідні для розрахунку площин. Визначте метод get_area в кожному з них так, щоби вони розраховували площу в залежності від формули для кожного типу фігури. Створіть обʼєкт класу Трикутник та обʼєкт класу Коло. Виконайте операцію суми за допомогою оператора + між ними."
      ],
      "metadata": {
        "id": "SFcKnnv5Mo_z"
      }
    },
    {
      "cell_type": "code",
      "source": [
        "class Triangle(Figure):\n",
        "    def __init__(self, side_a, height_a):\n",
        "        self.side_a = side_a\n",
        "        self.height_a = height_a\n",
        "\n",
        "    def get_area(self):\n",
        "        return (self.side_a * self.height_a) / 2\n",
        "\n",
        "\n",
        "\n",
        "\n",
        "class Circle(Figure):\n",
        "    def __init__(self, r):\n",
        "        self.r = r\n",
        "\n",
        "    def get_area(self):\n",
        "        return 3.14 * (self.r ** 2)\n",
        "\n",
        "\n",
        "\n",
        "\n",
        "t = Triangle(7.5, 8)\n",
        "c = Circle(3.091)\n",
        "\n",
        "print(f'{t.get_area()} + {c.get_area()} = {t + c}')"
      ],
      "metadata": {
        "id": "H3GVNr69Muf3",
        "colab": {
          "base_uri": "https://localhost:8080/"
        },
        "outputId": "1ff01edc-92e8-45d2-9d5c-428169f2067d"
      },
      "execution_count": null,
      "outputs": [
        {
          "output_type": "stream",
          "name": "stdout",
          "text": [
            "30.0 + 30.000442340000006 = 60.000442340000006\n"
          ]
        }
      ]
    },
    {
      "cell_type": "markdown",
      "source": [
        "7. (3б). Продемонструйте різницю між isinstance та issubclass."
      ],
      "metadata": {
        "id": "HCvR206YMvLK"
      }
    },
    {
      "cell_type": "code",
      "source": [
        "class A(object):\n",
        "    pass\n",
        "\n",
        "\n",
        "\n",
        "\n",
        "\n",
        "class SonOfA(A):\n",
        "    pass\n",
        "\n",
        "\n",
        "\n",
        "\n",
        "\n",
        "print(f'клас SonOfA наслідує А? {issubclass(SonOfA, A)}')\n",
        "print(f'клас А наслідує SonOfA? {issubclass(A, SonOfA)}')\n",
        "\n",
        "a = A()\n",
        "son_of_a = SonOfA()\n",
        "\n",
        "print(f'об\\'єкт son_of_a є екземпляром класу SonOfA(або класів, що наслідують SonOfA)? {isinstance(son_of_a, SonOfA)}')\n",
        "\n",
        "print(f'об\\'єкт son_of_a є екземпляром класу A(або класів, що наслідують A)? {isinstance(son_of_a, SonOfA)}')\n",
        "\n",
        "print(f'об\\'єкт a є екземпляром класу SonOfA(або класів, що наслідують SonOfA) {isinstance(a, SonOfA)}')"
      ],
      "metadata": {
        "id": "L_V1bBvDM0GN",
        "colab": {
          "base_uri": "https://localhost:8080/"
        },
        "outputId": "9aab1521-dced-466e-dbf4-41927d1b90d8"
      },
      "execution_count": null,
      "outputs": [
        {
          "output_type": "stream",
          "name": "stdout",
          "text": [
            "клас SonOfA наслідує А? True\n",
            "клас А наслідує SonOfA? False\n",
            "об'єкт son_of_a є екземпляром класу SonOfA(або класів, що наслідують SonOfA)? True\n",
            "об'єкт son_of_a є екземпляром класу A(або класів, що наслідують A)? True\n",
            "об'єкт a є екземпляром класу SonOfA(або класів, що наслідують SonOfA) False\n"
          ]
        }
      ]
    },
    {
      "cell_type": "markdown",
      "source": [
        "8. (13б). Створіть клас BankAccount з приватними атрибутами balance та account_number. Реалізуйте методи поповнення та зняття коштів, забезпечивши належну інкапсуляцію. Підказка: використовуйте декоратори property та setter."
      ],
      "metadata": {
        "id": "jjsaBZ-iM0Qq"
      }
    },
    {
      "cell_type": "code",
      "source": [
        "class BankAccount:\n",
        "    def __init__(self, balance, account_number):\n",
        "        self.__balance = balance\n",
        "        self.__account_number = account_number\n",
        "\n",
        "    @property\n",
        "    def balance(self):\n",
        "        return self.__balance\n",
        "\n",
        "    @property\n",
        "    def account_number(self):\n",
        "        return self.__account_number\n",
        "\n",
        "    @balance.setter\n",
        "    def balance(self, new_balance):\n",
        "        self.__balance = new_balance\n",
        "\n",
        "    def deposit(self, amount):\n",
        "      if amount > 0:\n",
        "          self.balance += amount\n",
        "          print(f'Account {self.account_number} received {amount}. Balance: {self.balance}')\n",
        "      else:\n",
        "          print(f'Enter positive number')\n",
        "\n",
        "    def withdraw(self, amount):\n",
        "        if amount < 0:\n",
        "            print(f'Enter positive number')\n",
        "            return\n",
        "\n",
        "        if amount < self.balance:\n",
        "            self.balance -= amount\n",
        "            print(f'Account {self.account_number} withdrew {amount}. Balance: {self.balance}')\n",
        "        else:\n",
        "            print('Not enough funds')\n",
        "\n",
        "\n",
        "\n",
        "\n",
        "my_acc = BankAccount(0, 1)\n",
        "\n",
        "print(my_acc.balance)\n",
        "\n",
        "my_acc.deposit(1000)\n",
        "\n",
        "my_acc.withdraw(500)"
      ],
      "metadata": {
        "id": "xCvZ7lh8M7YA",
        "colab": {
          "base_uri": "https://localhost:8080/"
        },
        "outputId": "efac2131-ad3a-43e4-d91f-fc2e5f6637a2"
      },
      "execution_count": null,
      "outputs": [
        {
          "output_type": "stream",
          "name": "stdout",
          "text": [
            "0\n",
            "Account 1 received 1000. Balance: 1000\n",
            "Account 1 withdrew 500. Balance: 500\n"
          ]
        }
      ]
    },
    {
      "cell_type": "markdown",
      "source": [
        "9. (11б). Створіть клас Library, який містить список об'єктів типу Book. Реалізуйте методи для додавання книги, видалення книги та відображення списку книг."
      ],
      "metadata": {
        "id": "tIzL2SJTM8ft"
      }
    },
    {
      "cell_type": "code",
      "source": [
        "class Book:\n",
        "    def __init__(self, title):\n",
        "        self.title = str(title)\n",
        "\n",
        "    def __str__(self):\n",
        "        return self.title\n",
        "\n",
        "\n",
        "\n",
        "class Library:\n",
        "    def __init__(self, books = list()):\n",
        "        self.__books = books\n",
        "\n",
        "    @property\n",
        "    def books(self):\n",
        "        return self.__books\n",
        "\n",
        "    def add(self, book):\n",
        "        if isinstance(book, Book):\n",
        "            self.books.append(book)\n",
        "        else:\n",
        "            print(\"Books only\")\n",
        "\n",
        "    def delete(self, book):\n",
        "        if isinstance(book, Book):\n",
        "           self.books.remove(book)\n",
        "        else:\n",
        "            print(\"Can't delete what we don't have\")\n",
        "\n",
        "    # in case a totalitarian regime takes power\n",
        "    def burn_the_library(self):\n",
        "        self.books.clear()\n",
        "\n",
        "    def __str__(self):\n",
        "        res = \"\"\n",
        "        for b in self.books:\n",
        "              res += str(b) + '\\n'\n",
        "        return res\n",
        "\n",
        "\n",
        "b = Book(\"Stranger In The Strange Land\")\n",
        "\n",
        "books = []\n",
        "for i in range(10):\n",
        "  books.append(Book('b'+str(i)))\n",
        "\n",
        "library = Library(books)\n",
        "\n",
        "library.add(b)\n",
        "\n",
        "print(library)\n",
        "\n",
        "library.delete(b)\n",
        "\n",
        "print(library)"
      ],
      "metadata": {
        "id": "HWxfJKLtNAUZ",
        "colab": {
          "base_uri": "https://localhost:8080/"
        },
        "outputId": "848aaddd-05ec-4fc6-ff7d-7782ab8b9cd5"
      },
      "execution_count": null,
      "outputs": [
        {
          "output_type": "stream",
          "name": "stdout",
          "text": [
            "b0\n",
            "b1\n",
            "b2\n",
            "b3\n",
            "b4\n",
            "b5\n",
            "b6\n",
            "b7\n",
            "b8\n",
            "b9\n",
            "Stranger In The Strange Land\n",
            "\n",
            "b0\n",
            "b1\n",
            "b2\n",
            "b3\n",
            "b4\n",
            "b5\n",
            "b6\n",
            "b7\n",
            "b8\n",
            "b9\n",
            "\n"
          ]
        }
      ]
    },
    {
      "cell_type": "markdown",
      "source": [
        "10. (13б). Створіть клас Person з атрибутами name та age. Створіть ще один клас Employee з такими атрибутами, як department та salary. Створіть клас Manager, який успадковує обидва класи Person та Employee. Продемонструйте використання множинної спадковості, створивши обʼєкт класу Manager та отримавши mro для цього класу."
      ],
      "metadata": {
        "id": "lmV8pAwwNIqu"
      }
    },
    {
      "cell_type": "code",
      "source": [
        "class Person:\n",
        "    def __init__(self, name, age):\n",
        "        self.name = name\n",
        "        self.age = age\n",
        "\n",
        "\n",
        "\n",
        "class Employee:\n",
        "    def __init__(self, department, salary):\n",
        "        self.department = department\n",
        "        self.salary = salary\n",
        "\n",
        "\n",
        "class Manager(Person, Employee):\n",
        "    def __init__(self, name, age, department, salary, subordinates = list()):\n",
        "        Person.__init__(self, name, age)\n",
        "        Employee.__init__(self, department, salary)\n",
        "        self.subordinates = subordinates\n",
        "\n",
        "\n",
        "m = Manager(\"John\", 33, \"1-st department\", 10000)\n",
        "\n",
        "\n",
        "Manager.mro()"
      ],
      "metadata": {
        "id": "R49grKlWNPeN",
        "colab": {
          "base_uri": "https://localhost:8080/"
        },
        "outputId": "7ec4f1e5-ba8b-4888-881f-13a10eacff96"
      },
      "execution_count": null,
      "outputs": [
        {
          "output_type": "stream",
          "name": "stdout",
          "text": [
            "John\n"
          ]
        },
        {
          "output_type": "execute_result",
          "data": {
            "text/plain": [
              "[__main__.Manager, __main__.Person, __main__.Employee, object]"
            ]
          },
          "metadata": {},
          "execution_count": 8
        }
      ]
    },
    {
      "cell_type": "markdown",
      "source": [
        "Lookup order для Manager = [Manager, Person, Employee, object]"
      ],
      "metadata": {
        "id": "7UXsXHxp5kCz"
      }
    },
    {
      "cell_type": "markdown",
      "source": [
        "# II. Iterator"
      ],
      "metadata": {
        "id": "dIJyUiNBFG8G"
      }
    },
    {
      "cell_type": "markdown",
      "source": [
        "11. (4б). Визначте рядок(str) з 4ма різними за значенням символами. Створіть ітератор на основі цього рядка. Викличте 5 разів функцію next на ітераторі, 4ри перших з них огорніть у ф-цію print()."
      ],
      "metadata": {
        "id": "13vsm0NyKIzL"
      }
    },
    {
      "cell_type": "code",
      "source": [
        "string = \"abcd\"\n",
        "\n",
        "it = iter(string)\n",
        "\n",
        "\n",
        "for i in range(5):\n",
        "  if i == 4:\n",
        "    next(it) # помилка, виклик next коли наступних не лишилось\n",
        "    break\n",
        "  print(f'{i}: {next(it)}')"
      ],
      "metadata": {
        "id": "81ntabAkKuz-",
        "colab": {
          "base_uri": "https://localhost:8080/",
          "height": 280
        },
        "outputId": "997c290a-005e-4861-88b5-5bda52c22590"
      },
      "execution_count": null,
      "outputs": [
        {
          "output_type": "stream",
          "name": "stdout",
          "text": [
            "0: a\n",
            "1: b\n",
            "2: c\n",
            "3: d\n"
          ]
        },
        {
          "output_type": "error",
          "ename": "StopIteration",
          "evalue": "",
          "traceback": [
            "\u001b[0;31m---------------------------------------------------------------------------\u001b[0m",
            "\u001b[0;31mStopIteration\u001b[0m                             Traceback (most recent call last)",
            "\u001b[0;32m<ipython-input-13-a9fa5a0d53ee>\u001b[0m in \u001b[0;36m<cell line: 6>\u001b[0;34m()\u001b[0m\n\u001b[1;32m      6\u001b[0m \u001b[0;32mfor\u001b[0m \u001b[0mi\u001b[0m \u001b[0;32min\u001b[0m \u001b[0mrange\u001b[0m\u001b[0;34m(\u001b[0m\u001b[0;36m5\u001b[0m\u001b[0;34m)\u001b[0m\u001b[0;34m:\u001b[0m\u001b[0;34m\u001b[0m\u001b[0;34m\u001b[0m\u001b[0m\n\u001b[1;32m      7\u001b[0m   \u001b[0;32mif\u001b[0m \u001b[0mi\u001b[0m \u001b[0;34m==\u001b[0m \u001b[0;36m4\u001b[0m\u001b[0;34m:\u001b[0m\u001b[0;34m\u001b[0m\u001b[0;34m\u001b[0m\u001b[0m\n\u001b[0;32m----> 8\u001b[0;31m     \u001b[0mnext\u001b[0m\u001b[0;34m(\u001b[0m\u001b[0mit\u001b[0m\u001b[0;34m)\u001b[0m\u001b[0;34m\u001b[0m\u001b[0;34m\u001b[0m\u001b[0m\n\u001b[0m\u001b[1;32m      9\u001b[0m     \u001b[0;32mbreak\u001b[0m\u001b[0;34m\u001b[0m\u001b[0;34m\u001b[0m\u001b[0m\n\u001b[1;32m     10\u001b[0m   \u001b[0mprint\u001b[0m\u001b[0;34m(\u001b[0m\u001b[0;34mf'{i}: {next(it)}'\u001b[0m\u001b[0;34m)\u001b[0m\u001b[0;34m\u001b[0m\u001b[0;34m\u001b[0m\u001b[0m\n",
            "\u001b[0;31mStopIteration\u001b[0m: "
          ]
        }
      ]
    },
    {
      "cell_type": "markdown",
      "source": [
        "А що якщо викликати цю ж функцію на рядку?"
      ],
      "metadata": {
        "id": "aekWHGXOLRsO"
      }
    },
    {
      "cell_type": "code",
      "source": [
        "next(\"abcd\") # помилка, рядок не ітератор"
      ],
      "metadata": {
        "id": "mxATGsErLV1i",
        "colab": {
          "base_uri": "https://localhost:8080/",
          "height": 141
        },
        "outputId": "535931bd-9939-4441-cc5e-28dde8338df2"
      },
      "execution_count": null,
      "outputs": [
        {
          "output_type": "error",
          "ename": "TypeError",
          "evalue": "'str' object is not an iterator",
          "traceback": [
            "\u001b[0;31m---------------------------------------------------------------------------\u001b[0m",
            "\u001b[0;31mTypeError\u001b[0m                                 Traceback (most recent call last)",
            "\u001b[0;32m<ipython-input-15-24005738d392>\u001b[0m in \u001b[0;36m<cell line: 1>\u001b[0;34m()\u001b[0m\n\u001b[0;32m----> 1\u001b[0;31m \u001b[0mnext\u001b[0m\u001b[0;34m(\u001b[0m\u001b[0;34m\"abcd\"\u001b[0m\u001b[0;34m)\u001b[0m\u001b[0;34m\u001b[0m\u001b[0;34m\u001b[0m\u001b[0m\n\u001b[0m",
            "\u001b[0;31mTypeError\u001b[0m: 'str' object is not an iterator"
          ]
        }
      ]
    },
    {
      "cell_type": "markdown",
      "source": [
        " 12. (5б). Опишіть своїми словами в одному реченні, як ви розумієте різницю між ітерабельними обʼєктами та ітераторами (можна на прикладі)."
      ],
      "metadata": {
        "id": "XwtMEopwJ4pH"
      }
    },
    {
      "cell_type": "markdown",
      "source": [
        "Якщо об'єкт ітерабельний, з нього можна отримати ітератор, який в свою чергу один за одним, від першого до останнього, повертає елементи нашого iterable"
      ],
      "metadata": {
        "id": "-sHrODc3KFn8"
      }
    },
    {
      "cell_type": "markdown",
      "source": [
        "13. (11б). Створіть клас, що має визначений Iterator Protocol та при кожному виклику next повертає літери англійської абетки, поки вони не вичерпаються."
      ],
      "metadata": {
        "id": "E9qJWmNbK8Gl"
      }
    },
    {
      "cell_type": "code",
      "source": [
        "class Alphabet:\n",
        "    def __iter__(self):\n",
        "        self.i = 'a'\n",
        "        return self\n",
        "\n",
        "    def __next__(self):\n",
        "        if ord(self.i) <= ord('z'):\n",
        "            j = self.i\n",
        "            self.i = chr(ord(self.i) + 1)\n",
        "            return j\n",
        "        else:\n",
        "            raise StopIteration"
      ],
      "metadata": {
        "id": "cqx-g_RsLo6I"
      },
      "execution_count": null,
      "outputs": []
    },
    {
      "cell_type": "code",
      "source": [
        "alphabet = Alphabet()\n",
        "it = iter(alphabet)\n",
        "\n",
        "for i in it:\n",
        "  print(i)\n"
      ],
      "metadata": {
        "colab": {
          "base_uri": "https://localhost:8080/"
        },
        "id": "ZNccCLKlCLYY",
        "outputId": "f00043ea-9a2e-4ee6-9831-6fea676b39e1"
      },
      "execution_count": null,
      "outputs": [
        {
          "output_type": "stream",
          "name": "stdout",
          "text": [
            "a\n",
            "b\n",
            "c\n",
            "d\n",
            "e\n",
            "f\n",
            "g\n",
            "h\n",
            "i\n",
            "j\n",
            "k\n",
            "l\n",
            "m\n",
            "n\n",
            "o\n",
            "p\n",
            "q\n",
            "r\n",
            "s\n",
            "t\n",
            "u\n",
            "v\n",
            "w\n",
            "x\n",
            "y\n",
            "z\n"
          ]
        }
      ]
    },
    {
      "cell_type": "markdown",
      "source": [
        "# Вітаю! Ви велика(ий) молодець, що впоралась(вся). Похваліть себе та побалуйте чимось приємним. Я Вами пишаюся."
      ],
      "metadata": {
        "id": "Z3E3S_s1Fv7-"
      }
    }
  ]
}